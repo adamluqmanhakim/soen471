{
  "nbformat": 4,
  "nbformat_minor": 0,
  "metadata": {
    "kernelspec": {
      "display_name": "Python 3",
      "language": "python",
      "name": "python3"
    },
    "language_info": {
      "codemirror_mode": {
        "name": "ipython",
        "version": 3
      },
      "file_extension": ".py",
      "mimetype": "text/x-python",
      "name": "python",
      "nbconvert_exporter": "python",
      "pygments_lexer": "ipython3",
      "version": "3.7.3"
    },
    "colab": {
      "name": "471-project-movie-recommender.ipynb",
      "provenance": [],
      "collapsed_sections": [],
      "toc_visible": true
    }
  },
  "cells": [
    {
      "cell_type": "markdown",
      "metadata": {
        "id": "y-v2UUzqna_c"
      },
      "source": [
        "### Libraries"
      ]
    },
    {
      "cell_type": "code",
      "metadata": {
        "id": "zw2BA7ZoopS6"
      },
      "source": [
        "# install java\n",
        "!apt-get install openjdk-8-jdk-headless -qq > /dev/null\n",
        "\n",
        "# install spark \n",
        "!wget -q https://archive.apache.org/dist/spark/spark-3.0.0/spark-3.0.0-bin-hadoop3.2.tgz\n",
        "\n",
        "# unzip spark\n",
        "!tar xf spark-3.0.0-bin-hadoop3.2.tgz\n",
        "\n",
        "# setting spark \n",
        "import os\n",
        "os.environ[\"JAVA_HOME\"] = \"/usr/lib/jvm/java-8-openjdk-amd64\"\n",
        "os.environ[\"SPARK_HOME\"] = \"/content/spark-3.0.0-bin-hadoop3.2\"\n",
        "\n",
        "# install findspark using pip\n",
        "!pip install -q findspark\n"
      ],
      "execution_count": 43,
      "outputs": []
    },
    {
      "cell_type": "code",
      "metadata": {
        "id": "qDmJ_JsdpfQh"
      },
      "source": [
        "# set your spark folder to your system path environment. \n",
        "import os\n",
        "os.environ[\"JAVA_HOME\"] = \"/usr/lib/jvm/java-8-openjdk-amd64\"\n",
        "os.environ[\"SPARK_HOME\"] = \"/content/spark-3.0.0-bin-hadoop3.2\""
      ],
      "execution_count": 44,
      "outputs": []
    },
    {
      "cell_type": "code",
      "metadata": {
        "id": "514Gli8apmX6"
      },
      "source": [
        "import findspark\n",
        "findspark.init()\n",
        "from pyspark.sql import SparkSession\n",
        "spark = SparkSession.builder.master(\"local[*]\").getOrCreate()"
      ],
      "execution_count": 45,
      "outputs": []
    },
    {
      "cell_type": "code",
      "metadata": {
        "id": "fUklZzQcna_f"
      },
      "source": [
        "import pandas as pd\n",
        "from pyspark.sql.functions import col, explode\n",
        "from pyspark import SparkContext"
      ],
      "execution_count": 47,
      "outputs": []
    },
    {
      "cell_type": "markdown",
      "metadata": {
        "id": "Is7ll-cvna_f"
      },
      "source": [
        "### Spark session"
      ]
    },
    {
      "cell_type": "code",
      "metadata": {
        "id": "1_hh-cwuna_g"
      },
      "source": [
        "from pyspark.sql import SparkSession\n",
        "sc = SparkContext\n",
        "spark = SparkSession.builder.appName('Movie Recommendations System').getOrCreate()"
      ],
      "execution_count": 48,
      "outputs": []
    },
    {
      "cell_type": "markdown",
      "metadata": {
        "id": "e9vNvHfBna_g"
      },
      "source": [
        "# 1. Collaborative Filtering"
      ]
    },
    {
      "cell_type": "code",
      "metadata": {
        "colab": {
          "base_uri": "https://localhost:8080/"
        },
        "id": "KSoWJ8JKxYpl",
        "outputId": "13a99940-e8f4-4916-f100-cc930c75934f"
      },
      "source": [
        "from google.colab import drive\n",
        "drive.mount('/content/drive')"
      ],
      "execution_count": 49,
      "outputs": [
        {
          "output_type": "stream",
          "text": [
            "Drive already mounted at /content/drive; to attempt to forcibly remount, call drive.mount(\"/content/drive\", force_remount=True).\n"
          ],
          "name": "stdout"
        }
      ]
    },
    {
      "cell_type": "code",
      "metadata": {
        "id": "iHGPJf-Gna_g"
      },
      "source": [
        "movies = spark.read.csv(\"drive/MyDrive/movie-recommender/movies.csv\",header=True)\n",
        "ratings = spark.read.csv(\"drive/MyDrive/movie-recommender/ratings.csv\",header=True)"
      ],
      "execution_count": null,
      "outputs": []
    },
    {
      "cell_type": "code",
      "metadata": {
        "colab": {
          "base_uri": "https://localhost:8080/"
        },
        "id": "-QAyBfjjna_h",
        "outputId": "9b426449-0988-407f-8fde-b2dfd7c2c4a7"
      },
      "source": [
        "ratings.show()"
      ],
      "execution_count": null,
      "outputs": [
        {
          "output_type": "stream",
          "text": [
            "+------+-------+------+----------+\n",
            "|userId|movieId|rating| timestamp|\n",
            "+------+-------+------+----------+\n",
            "|     1|     31|   2.5|1260759144|\n",
            "|     1|   1029|     3|1260759179|\n",
            "|     1|   1061|     3|1260759182|\n",
            "|     1|   1129|     2|1260759185|\n",
            "|     1|   1172|     4|1260759205|\n",
            "|     1|   1263|     2|1260759151|\n",
            "|     1|   1287|     2|1260759187|\n",
            "|     1|   1293|     2|1260759148|\n",
            "|     1|   1339|   3.5|1260759125|\n",
            "|     1|   1343|     2|1260759131|\n",
            "|     1|   1371|   2.5|1260759135|\n",
            "|     1|   1405|     1|1260759203|\n",
            "|     1|   1953|     4|1260759191|\n",
            "|     1|   2105|     4|1260759139|\n",
            "|     1|   2150|     3|1260759194|\n",
            "|     1|   2193|     2|1260759198|\n",
            "|     1|   2294|     2|1260759108|\n",
            "|     1|   2455|   2.5|1260759113|\n",
            "|     1|   2968|     1|1260759200|\n",
            "|     1|   3671|     3|1260759117|\n",
            "+------+-------+------+----------+\n",
            "only showing top 20 rows\n",
            "\n"
          ],
          "name": "stdout"
        }
      ]
    },
    {
      "cell_type": "code",
      "metadata": {
        "colab": {
          "base_uri": "https://localhost:8080/"
        },
        "id": "7yFoiidgna_h",
        "outputId": "702c2bb9-0d4a-42f9-900a-bf2433601f7c"
      },
      "source": [
        "ratings.printSchema()"
      ],
      "execution_count": null,
      "outputs": [
        {
          "output_type": "stream",
          "text": [
            "root\n",
            " |-- userId: string (nullable = true)\n",
            " |-- movieId: string (nullable = true)\n",
            " |-- rating: string (nullable = true)\n",
            " |-- timestamp: string (nullable = true)\n",
            "\n"
          ],
          "name": "stdout"
        }
      ]
    },
    {
      "cell_type": "code",
      "metadata": {
        "colab": {
          "base_uri": "https://localhost:8080/"
        },
        "id": "Z1kUbbdJna_i",
        "outputId": "89a02ff6-a59f-4b08-88e7-1a887add77c6"
      },
      "source": [
        "ratings = ratings.\\\n",
        "    withColumn('userId', col('userId').cast('integer')).\\\n",
        "    withColumn('movieId', col('movieId').cast('integer')).\\\n",
        "    withColumn('rating', col('rating').cast('float')).\\\n",
        "    drop('timestamp')\n",
        "ratings.show()"
      ],
      "execution_count": null,
      "outputs": [
        {
          "output_type": "stream",
          "text": [
            "+------+-------+------+\n",
            "|userId|movieId|rating|\n",
            "+------+-------+------+\n",
            "|     1|     31|   2.5|\n",
            "|     1|   1029|   3.0|\n",
            "|     1|   1061|   3.0|\n",
            "|     1|   1129|   2.0|\n",
            "|     1|   1172|   4.0|\n",
            "|     1|   1263|   2.0|\n",
            "|     1|   1287|   2.0|\n",
            "|     1|   1293|   2.0|\n",
            "|     1|   1339|   3.5|\n",
            "|     1|   1343|   2.0|\n",
            "|     1|   1371|   2.5|\n",
            "|     1|   1405|   1.0|\n",
            "|     1|   1953|   4.0|\n",
            "|     1|   2105|   4.0|\n",
            "|     1|   2150|   3.0|\n",
            "|     1|   2193|   2.0|\n",
            "|     1|   2294|   2.0|\n",
            "|     1|   2455|   2.5|\n",
            "|     1|   2968|   1.0|\n",
            "|     1|   3671|   3.0|\n",
            "+------+-------+------+\n",
            "only showing top 20 rows\n",
            "\n"
          ],
          "name": "stdout"
        }
      ]
    },
    {
      "cell_type": "code",
      "metadata": {
        "colab": {
          "base_uri": "https://localhost:8080/"
        },
        "id": "yoyUs-DSna_j",
        "outputId": "4a9675c3-5baf-472a-ed2d-d88c0dd603fd"
      },
      "source": [
        "# total number of ratings in the dataset\n",
        "total_ratings = ratings.select(\"rating\").count()\n",
        "print(\"The total number of ratings are \" + str(total_ratings))\n",
        "\n",
        "# total number of distinct userIds and distinct movieIds\n",
        "total_users = ratings.select(\"userId\").distinct().count()\n",
        "total_movies = ratings.select(\"movieId\").distinct().count()\n",
        "\n",
        "# set denominator equal to the number of users multiplied by the number of movies\n",
        "total_user_movies = total_users * total_movies\n",
        "\n",
        "# divide numerator by the denominator\n",
        "sparsity = (1.0 - (total_ratings *1.0)/total_user_movies)*100\n",
        "print(\"The ratings dataframe is \", \"%.2f\" % sparsity + \"% empty.\")"
      ],
      "execution_count": null,
      "outputs": [
        {
          "output_type": "stream",
          "text": [
            "The total number of ratings are 19999\n",
            "The ratings dataframe is  96.81% empty.\n"
          ],
          "name": "stdout"
        }
      ]
    },
    {
      "cell_type": "markdown",
      "metadata": {
        "id": "K2N_REFDna_k"
      },
      "source": [
        "## Ratings"
      ]
    },
    {
      "cell_type": "code",
      "metadata": {
        "colab": {
          "base_uri": "https://localhost:8080/"
        },
        "id": "3_Pephq-na_k",
        "outputId": "bcbbe66f-f81b-463f-ebd1-2669a76cbd03"
      },
      "source": [
        "# Group data by userId, count ratings\n",
        "userId_ratings = ratings.groupBy(\"userId\").count().orderBy('count', ascending=False)\n",
        "userId_ratings.show()"
      ],
      "execution_count": null,
      "outputs": [
        {
          "output_type": "stream",
          "text": [
            "+------+-----+\n",
            "|userId|count|\n",
            "+------+-----+\n",
            "|    15| 1700|\n",
            "|    73| 1610|\n",
            "|    30| 1011|\n",
            "|    23|  726|\n",
            "|   102|  678|\n",
            "|   119|  641|\n",
            "|   105|  525|\n",
            "|    56|  522|\n",
            "|    48|  513|\n",
            "|    19|  423|\n",
            "|   130|  375|\n",
            "|    17|  363|\n",
            "|   111|  341|\n",
            "|   128|  323|\n",
            "|    77|  315|\n",
            "|    95|  299|\n",
            "|    78|  263|\n",
            "|    88|  255|\n",
            "|    22|  220|\n",
            "|   125|  210|\n",
            "+------+-----+\n",
            "only showing top 20 rows\n",
            "\n"
          ],
          "name": "stdout"
        }
      ]
    },
    {
      "cell_type": "code",
      "metadata": {
        "id": "AgzulFtTna_k",
        "colab": {
          "base_uri": "https://localhost:8080/"
        },
        "outputId": "e29b5556-3e46-4a9c-9be8-75b1f6c698fe"
      },
      "source": [
        "# Group data by userId, count ratings\n",
        "movieId_ratings = ratings.groupBy(\"movieId\").count().orderBy('count', ascending=False)\n",
        "movieId_ratings.show()"
      ],
      "execution_count": null,
      "outputs": [
        {
          "output_type": "stream",
          "text": [
            "+-------+-----+\n",
            "|movieId|count|\n",
            "+-------+-----+\n",
            "|    356|   70|\n",
            "|    296|   67|\n",
            "|    318|   63|\n",
            "|    593|   59|\n",
            "|    260|   58|\n",
            "|    480|   56|\n",
            "|    527|   54|\n",
            "|   2571|   51|\n",
            "|    110|   50|\n",
            "|      1|   49|\n",
            "|    592|   48|\n",
            "|    457|   47|\n",
            "|    780|   46|\n",
            "|   1270|   46|\n",
            "|   1196|   45|\n",
            "|   2959|   44|\n",
            "|    588|   44|\n",
            "|   4993|   44|\n",
            "|   2858|   44|\n",
            "|    589|   44|\n",
            "+-------+-----+\n",
            "only showing top 20 rows\n",
            "\n"
          ],
          "name": "stdout"
        }
      ]
    },
    {
      "cell_type": "markdown",
      "metadata": {
        "id": "bSGG5Z4gna_k"
      },
      "source": [
        "## Build ALS model"
      ]
    },
    {
      "cell_type": "code",
      "metadata": {
        "id": "82xHYLE7na_l"
      },
      "source": [
        "# Import the required functions\n",
        "from pyspark.ml.evaluation import RegressionEvaluator\n",
        "from pyspark.ml.recommendation import ALS\n",
        "from pyspark.ml.tuning import ParamGridBuilder, CrossValidator"
      ],
      "execution_count": null,
      "outputs": []
    },
    {
      "cell_type": "code",
      "metadata": {
        "colab": {
          "base_uri": "https://localhost:8080/"
        },
        "id": "kJZCrIxzna_l",
        "outputId": "9ce60fac-147d-4d1e-fa68-8566cdd094e7"
      },
      "source": [
        "(train, test) = ratings.randomSplit([0.8, 0.2], seed = 1234)\n",
        "\n",
        "als = ALS(userCol=\"userId\", itemCol=\"movieId\", ratingCol=\"rating\", nonnegative = True, implicitPrefs = False, coldStartStrategy=\"drop\")\n",
        "\n",
        "# Confirm that a model called \"als\" was created\n",
        "type(als)"
      ],
      "execution_count": null,
      "outputs": [
        {
          "output_type": "execute_result",
          "data": {
            "text/plain": [
              "pyspark.ml.recommendation.ALS"
            ]
          },
          "metadata": {
            "tags": []
          },
          "execution_count": 98
        }
      ]
    },
    {
      "cell_type": "markdown",
      "metadata": {
        "id": "VlRcVzSkna_l"
      },
      "source": [
        "## Tune ALS model"
      ]
    },
    {
      "cell_type": "code",
      "metadata": {
        "colab": {
          "base_uri": "https://localhost:8080/"
        },
        "id": "xjdIYBhina_l",
        "outputId": "a5ace108-04fe-4da3-a4eb-544b10768537"
      },
      "source": [
        "from pyspark.ml.evaluation import RegressionEvaluator\n",
        "from pyspark.ml.tuning import ParamGridBuilder, CrossValidator\n",
        "\n",
        "# hyperparameters \n",
        "param_grid = ParamGridBuilder() \\\n",
        "            .addGrid(als.rank, [10, 50, 100, 150]) \\\n",
        "            .addGrid(als.regParam, [.01, .05, .1, .15]) \\\n",
        "            .build()\n",
        "           \n",
        "# RMSE evaluator\n",
        "evaluator = RegressionEvaluator(metricName=\"rmse\", labelCol=\"rating\", predictionCol=\"prediction\") \n",
        "print (\"total models: \", len(param_grid))"
      ],
      "execution_count": null,
      "outputs": [
        {
          "output_type": "stream",
          "text": [
            "total models:  16\n"
          ],
          "name": "stdout"
        }
      ]
    },
    {
      "cell_type": "markdown",
      "metadata": {
        "id": "v9fpZmF5na_m"
      },
      "source": [
        "## Cross Validation Pipeline"
      ]
    },
    {
      "cell_type": "markdown",
      "metadata": {
        "id": "YNW9klylOwB-"
      },
      "source": [
        "## Evaluate Predictions"
      ]
    },
    {
      "cell_type": "code",
      "metadata": {
        "colab": {
          "base_uri": "https://localhost:8080/"
        },
        "id": "WXs78dCxna_m",
        "outputId": "f3472bd0-8d7a-4d33-d38b-039f885de6f2"
      },
      "source": [
        "# build cross validation using CrossValidator\n",
        "cv = CrossValidator(estimator=als, estimatorParamMaps=param_grid, evaluator=evaluator, numFolds=5)\n",
        "\n",
        "# confirm cv was built\n",
        "print(cv)"
      ],
      "execution_count": null,
      "outputs": [
        {
          "output_type": "stream",
          "text": [
            "CrossValidator_f9768c600d12\n"
          ],
          "name": "stdout"
        }
      ]
    },
    {
      "cell_type": "code",
      "metadata": {
        "id": "LfyJebMHna_m"
      },
      "source": [
        "# Fit cv to the train dataset\n",
        "model = cv.fit(train)\n",
        "\n",
        "#Extract best model from the cv model above\n",
        "best_model = model.bestModel"
      ],
      "execution_count": null,
      "outputs": []
    },
    {
      "cell_type": "code",
      "metadata": {
        "id": "4M6wV5OVna_n",
        "colab": {
          "base_uri": "https://localhost:8080/"
        },
        "outputId": "b0846264-9410-4887-f9b0-21e9c3b89b77"
      },
      "source": [
        "\n",
        "# print best_model\n",
        "print(type(best_model))\n",
        "\n",
        "print(\"best model\")\n",
        "print(\"  rank:\", best_model._java_obj.parent().getRank())\n",
        "print(\"  maxIter:\", best_model._java_obj.parent().getMaxIter())\n",
        "print(\"  regParam:\", best_model._java_obj.parent().getRegParam())"
      ],
      "execution_count": null,
      "outputs": [
        {
          "output_type": "stream",
          "text": [
            "<class 'pyspark.ml.recommendation.ALSModel'>\n",
            "**Best Model**\n",
            "  Rank: 50\n",
            "  MaxIter: 10\n",
            "  RegParam: 0.15\n"
          ],
          "name": "stdout"
        }
      ]
    },
    {
      "cell_type": "code",
      "metadata": {
        "scrolled": true,
        "id": "HJVcXxoMna_n",
        "colab": {
          "base_uri": "https://localhost:8080/"
        },
        "outputId": "ce77de4a-290a-4036-8238-bf79db0ff088"
      },
      "source": [
        "# View the predictions\n",
        "test_predictions = best_model.transform(test)\n",
        "RMSE = evaluator.evaluate(test_predictions)\n",
        "print(RMSE)"
      ],
      "execution_count": null,
      "outputs": [
        {
          "output_type": "stream",
          "text": [
            "1.0375770341671366\n"
          ],
          "name": "stdout"
        }
      ]
    },
    {
      "cell_type": "code",
      "metadata": {
        "id": "CXzu33NRna_n",
        "colab": {
          "base_uri": "https://localhost:8080/"
        },
        "outputId": "86e706aa-5d82-4772-8d3c-0a8c7819bb80"
      },
      "source": [
        "test_predictions.show()"
      ],
      "execution_count": null,
      "outputs": [
        {
          "output_type": "stream",
          "text": [
            "+------+-------+------+----------+\n",
            "|userId|movieId|rating|prediction|\n",
            "+------+-------+------+----------+\n",
            "|    85|    471|   3.0| 3.5945723|\n",
            "|   102|    471|   5.0| 3.8349838|\n",
            "|    73|    471|   4.0| 3.8450947|\n",
            "|    30|    471|   4.0| 4.2084045|\n",
            "|   133|   1088|   1.5| 2.1906755|\n",
            "|    52|   1088|   4.0| 3.4424546|\n",
            "|   105|   1238|   4.0|  3.544775|\n",
            "|    73|   1342|   3.0| 2.6748915|\n",
            "|    53|   1580|   3.0| 3.0435739|\n",
            "|    93|   1580|   3.5| 3.4897757|\n",
            "|    43|   1580|   4.0|  2.862114|\n",
            "|    61|   1580|   3.5| 3.3713152|\n",
            "|    90|   1580|   4.0|  3.510601|\n",
            "|    79|   1580|   3.0| 2.3776147|\n",
            "|   118|   1580|   4.0| 3.7495706|\n",
            "|    30|   1580|   4.0| 3.6738088|\n",
            "|    41|   1591|   4.0| 2.8229442|\n",
            "|    77|   1591|   2.5| 2.4592566|\n",
            "|   119|   1591|   2.0| 2.4836512|\n",
            "|    22|   1645|   2.5| 3.0515492|\n",
            "+------+-------+------+----------+\n",
            "only showing top 20 rows\n",
            "\n"
          ],
          "name": "stdout"
        }
      ]
    },
    {
      "cell_type": "markdown",
      "metadata": {
        "id": "dGQxwW8dna_o"
      },
      "source": [
        "## Make Recommendations"
      ]
    },
    {
      "cell_type": "code",
      "metadata": {
        "id": "L1zQWmDQna_o",
        "colab": {
          "base_uri": "https://localhost:8080/"
        },
        "outputId": "2e135d90-959d-4fad-8115-f63834b47856"
      },
      "source": [
        "# Generate n Recommendations for all users\n",
        "nrecommendations = best_model.recommendForAllUsers(15)\n",
        "nrecommendations.limit(15).show()"
      ],
      "execution_count": null,
      "outputs": [
        {
          "output_type": "stream",
          "text": [
            "+------+--------------------+\n",
            "|userId|     recommendations|\n",
            "+------+--------------------+\n",
            "|    31|[[3083, 5.034974]...|\n",
            "|    85|[[255, 4.8651767]...|\n",
            "|    65|[[2068, 4.7784657...|\n",
            "|    53|[[2433, 4.7393894...|\n",
            "|   133|[[63853, 4.326188...|\n",
            "|    78|[[412, 5.169707],...|\n",
            "|   108|[[1680, 4.373681]...|\n",
            "|    34|[[1204, 4.827096]...|\n",
            "|   101|[[969, 4.919992],...|\n",
            "|   115|[[59684, 5.204933...|\n",
            "|   126|[[1204, 4.795785]...|\n",
            "|    81|[[7574, 4.8423476...|\n",
            "|    28|[[1252, 4.9166603...|\n",
            "|    76|[[308, 4.5686936]...|\n",
            "|    26|[[59784, 4.595728...|\n",
            "+------+--------------------+\n",
            "\n"
          ],
          "name": "stdout"
        }
      ]
    },
    {
      "cell_type": "code",
      "metadata": {
        "id": "37CmgPtVna_o",
        "colab": {
          "base_uri": "https://localhost:8080/"
        },
        "outputId": "6b7ca8bb-d35e-45bc-90f2-8511d83b6855"
      },
      "source": [
        "nrecommendations = nrecommendations\\\n",
        "    .withColumn(\"rec_exp\", explode(\"recommendations\"))\\\n",
        "    .select('userId', col(\"rec_exp.movieId\"), col(\"rec_exp.rating\"))\n",
        "\n",
        "nrecommendations.limit(15).show()"
      ],
      "execution_count": null,
      "outputs": [
        {
          "output_type": "stream",
          "text": [
            "+------+-------+---------+\n",
            "|userId|movieId|   rating|\n",
            "+------+-------+---------+\n",
            "|    31|   3083| 5.034974|\n",
            "|    31|  27773|  4.89264|\n",
            "|    31|   2068| 4.888596|\n",
            "|    31|   2973| 4.887059|\n",
            "|    31|    969|4.8632402|\n",
            "|    31|    308| 4.861147|\n",
            "|    31| 122882|4.8357797|\n",
            "|    31|    412|4.8143883|\n",
            "|    31|    923|4.8032746|\n",
            "|    31|   1204|  4.79386|\n",
            "|    31|   3006|4.7812037|\n",
            "|    31|    293|  4.77867|\n",
            "|    31|  31435|4.7665467|\n",
            "|    31|    912| 4.761282|\n",
            "|    31|    898| 4.760244|\n",
            "+------+-------+---------+\n",
            "\n"
          ],
          "name": "stdout"
        }
      ]
    },
    {
      "cell_type": "markdown",
      "metadata": {
        "id": "pp_6dUJJn7aA"
      },
      "source": [
        ""
      ]
    },
    {
      "cell_type": "markdown",
      "metadata": {
        "id": "k_fOyLt7na_o"
      },
      "source": [
        "## Merge recommendations\n"
      ]
    },
    {
      "cell_type": "code",
      "metadata": {
        "id": "hFDbja8Vna_p",
        "colab": {
          "base_uri": "https://localhost:8080/"
        },
        "outputId": "d576252a-61bd-4ddd-92eb-e13c308904d1"
      },
      "source": [
        "nrecommendations.join(movies, on='movieId').filter('userId = 20').show()"
      ],
      "execution_count": null,
      "outputs": [
        {
          "output_type": "stream",
          "text": [
            "+-------+------+---------+--------------------+--------------------+\n",
            "|movieId|userId|   rating|               title|              genres|\n",
            "+-------+------+---------+--------------------+--------------------+\n",
            "|  64285|    20|4.8574214|Wallace and Gromi...|    Animation|Comedy|\n",
            "|  31116|    20|4.8574214|Sergeant York (1941)|           Drama|War|\n",
            "|   7212|    20|4.8574214|I Was a Male War ...|      Comedy|Romance|\n",
            "|   1680|    20| 4.475608|Sliding Doors (1998)|       Drama|Romance|\n",
            "|   3406|    20|  4.32653|Captain Horatio H...|Action|Adventure|...|\n",
            "|   1148|    20|4.2794657|Wallace & Gromit:...|Animation|Childre...|\n",
            "|   6385|    20|4.2284565|  Whale Rider (2002)|               Drama|\n",
            "|    497|    20| 4.192836|Much Ado About No...|      Comedy|Romance|\n",
            "|    745|    20| 4.192061|Wallace & Gromit:...|Animation|Childre...|\n",
            "|   2405|    20| 4.172579|Jewel of the Nile...|Action|Adventure|...|\n",
            "|  38038|    20| 4.080236|Wallace & Gromit ...|Adventure|Animati...|\n",
            "|   3510|    20| 3.989033|    Frequency (2000)|      Drama|Thriller|\n",
            "|   1204|    20| 3.974742|Lawrence of Arabi...| Adventure|Drama|War|\n",
            "|   5380|    20| 3.885938|Importance of Bei...|Comedy|Drama|Romance|\n",
            "|   6516|    20| 3.885938|    Anastasia (1956)|               Drama|\n",
            "+-------+------+---------+--------------------+--------------------+\n",
            "\n"
          ],
          "name": "stdout"
        }
      ]
    },
    {
      "cell_type": "code",
      "metadata": {
        "id": "E2DnqyNLna_p",
        "colab": {
          "base_uri": "https://localhost:8080/"
        },
        "outputId": "6b817667-facc-45a3-dab8-10e45f181050"
      },
      "source": [
        "ratings.join(movies, on='movieId').filter('userId = 20').sort('rating', ascending=False).limit(10).show()"
      ],
      "execution_count": null,
      "outputs": [
        {
          "output_type": "stream",
          "text": [
            "+-------+------+------+--------------------+--------------------+\n",
            "|movieId|userId|rating|               title|              genres|\n",
            "+-------+------+------+--------------------+--------------------+\n",
            "|   1148|    20|   5.0|Wallace & Gromit:...|Animation|Childre...|\n",
            "|    497|    20|   5.0|Much Ado About No...|      Comedy|Romance|\n",
            "|    720|    20|   5.0|Wallace & Gromit:...|Adventure|Animati...|\n",
            "|    745|    20|   5.0|Wallace & Gromit:...|Animation|Childre...|\n",
            "|    780|    20|   5.0|Independence Day ...|Action|Adventure|...|\n",
            "|   1580|    20|   5.0|Men in Black (a.k...|Action|Comedy|Sci-Fi|\n",
            "|   1680|    20|   5.0|Sliding Doors (1998)|       Drama|Romance|\n",
            "|   2690|    20|   5.0|Ideal Husband, An...|      Comedy|Romance|\n",
            "|   7212|    20|   5.0|I Was a Male War ...|      Comedy|Romance|\n",
            "|  31116|    20|   5.0|Sergeant York (1941)|           Drama|War|\n",
            "+-------+------+------+--------------------+--------------------+\n",
            "\n"
          ],
          "name": "stdout"
        }
      ]
    },
    {
      "cell_type": "markdown",
      "metadata": {
        "id": "kv1tNtsATAtG"
      },
      "source": [
        "# Content filtering"
      ]
    },
    {
      "cell_type": "markdown",
      "metadata": {
        "id": "w9q-paMTrqhZ"
      },
      "source": [
        ""
      ]
    },
    {
      "cell_type": "code",
      "metadata": {
        "id": "kyJVmWVCxeNO"
      },
      "source": [
        "#importing required libraries \n",
        "%matplotlib inline\n",
        "import pandas as pd\n",
        "import numpy as np\n",
        "import matplotlib.pyplot as plt\n",
        "import seaborn as sns\n",
        "pd.options.display.max_columns = None\n",
        "\n",
        "from scipy import stats\n",
        "from ast import literal_eval\n",
        "from sklearn.feature_extraction.text import TfidfVectorizer, CountVectorizer\n",
        "from sklearn.metrics.pairwise import linear_kernel, cosine_similarity\n",
        "from nltk.stem.snowball import SnowballStemmer\n",
        "from nltk.stem.wordnet import WordNetLemmatizer\n",
        "from nltk.corpus import wordnet\n",
        "\n",
        "\n",
        "import warnings; warnings.simplefilter('ignore')"
      ],
      "execution_count": 60,
      "outputs": []
    },
    {
      "cell_type": "code",
      "metadata": {
        "id": "cGfaIJ2TxetB"
      },
      "source": [
        "links_df = pd.read_csv('drive/MyDrive/movie-recommender/links_small.csv', low_memory=False)\n",
        "links_df = links_df[links_df['tmdbId'].notnull()]['tmdbId'].astype('int')\n",
        "\n",
        "movies_metadata_df = pd.read_csv('drive/MyDrive/movie-recommender/movies_metadata.csv', low_memory=False)"
      ],
      "execution_count": 61,
      "outputs": []
    },
    {
      "cell_type": "code",
      "metadata": {
        "id": "0etx8tKTxeog"
      },
      "source": [
        "def convert_to_int(x):\n",
        "    try:\n",
        "        return int(x)\n",
        "    except:\n",
        "        return np.nan"
      ],
      "execution_count": 62,
      "outputs": []
    },
    {
      "cell_type": "code",
      "metadata": {
        "colab": {
          "base_uri": "https://localhost:8080/",
          "height": 366
        },
        "id": "7ZJRPAXzxej5",
        "outputId": "f1c0f986-a5a5-4c5d-9a2a-1a9b0c0e3e1d"
      },
      "source": [
        "\n",
        "movies_metadata_df['id'] = movies_metadata_df['id'].apply(convert_to_int)\n",
        "\n",
        "movies_metadata_df[movies_metadata_df['id'].isnull()]"
      ],
      "execution_count": 63,
      "outputs": [
        {
          "output_type": "execute_result",
          "data": {
            "text/html": [
              "<div>\n",
              "<style scoped>\n",
              "    .dataframe tbody tr th:only-of-type {\n",
              "        vertical-align: middle;\n",
              "    }\n",
              "\n",
              "    .dataframe tbody tr th {\n",
              "        vertical-align: top;\n",
              "    }\n",
              "\n",
              "    .dataframe thead th {\n",
              "        text-align: right;\n",
              "    }\n",
              "</style>\n",
              "<table border=\"1\" class=\"dataframe\">\n",
              "  <thead>\n",
              "    <tr style=\"text-align: right;\">\n",
              "      <th></th>\n",
              "      <th>adult</th>\n",
              "      <th>belongs_to_collection</th>\n",
              "      <th>budget</th>\n",
              "      <th>genres</th>\n",
              "      <th>homepage</th>\n",
              "      <th>id</th>\n",
              "      <th>imdb_id</th>\n",
              "      <th>original_language</th>\n",
              "      <th>original_title</th>\n",
              "      <th>overview</th>\n",
              "      <th>popularity</th>\n",
              "      <th>poster_path</th>\n",
              "      <th>production_companies</th>\n",
              "      <th>production_countries</th>\n",
              "      <th>release_date</th>\n",
              "      <th>revenue</th>\n",
              "      <th>runtime</th>\n",
              "      <th>spoken_languages</th>\n",
              "      <th>status</th>\n",
              "      <th>tagline</th>\n",
              "      <th>title</th>\n",
              "      <th>video</th>\n",
              "      <th>vote_average</th>\n",
              "      <th>vote_count</th>\n",
              "    </tr>\n",
              "  </thead>\n",
              "  <tbody>\n",
              "    <tr>\n",
              "      <th>19730</th>\n",
              "      <td>- Written by Ørnås</td>\n",
              "      <td>0.065736</td>\n",
              "      <td>/ff9qCepilowshEtG2GYWwzt2bs4.jpg</td>\n",
              "      <td>[{'name': 'Carousel Productions', 'id': 11176}...</td>\n",
              "      <td>[{'iso_3166_1': 'CA', 'name': 'Canada'}, {'iso...</td>\n",
              "      <td>NaN</td>\n",
              "      <td>0</td>\n",
              "      <td>104.0</td>\n",
              "      <td>[{'iso_639_1': 'en', 'name': 'English'}]</td>\n",
              "      <td>Released</td>\n",
              "      <td>NaN</td>\n",
              "      <td>Midnight Man</td>\n",
              "      <td>False</td>\n",
              "      <td>6.0</td>\n",
              "      <td>1</td>\n",
              "      <td>NaN</td>\n",
              "      <td>NaN</td>\n",
              "      <td>NaN</td>\n",
              "      <td>NaN</td>\n",
              "      <td>NaN</td>\n",
              "      <td>NaN</td>\n",
              "      <td>NaN</td>\n",
              "      <td>NaN</td>\n",
              "      <td>NaN</td>\n",
              "    </tr>\n",
              "    <tr>\n",
              "      <th>29503</th>\n",
              "      <td>Rune Balot goes to a casino connected to the ...</td>\n",
              "      <td>1.931659</td>\n",
              "      <td>/zV8bHuSL6WXoD6FWogP9j4x80bL.jpg</td>\n",
              "      <td>[{'name': 'Aniplex', 'id': 2883}, {'name': 'Go...</td>\n",
              "      <td>[{'iso_3166_1': 'US', 'name': 'United States o...</td>\n",
              "      <td>NaN</td>\n",
              "      <td>0</td>\n",
              "      <td>68.0</td>\n",
              "      <td>[{'iso_639_1': 'ja', 'name': '日本語'}]</td>\n",
              "      <td>Released</td>\n",
              "      <td>NaN</td>\n",
              "      <td>Mardock Scramble: The Third Exhaust</td>\n",
              "      <td>False</td>\n",
              "      <td>7.0</td>\n",
              "      <td>12</td>\n",
              "      <td>NaN</td>\n",
              "      <td>NaN</td>\n",
              "      <td>NaN</td>\n",
              "      <td>NaN</td>\n",
              "      <td>NaN</td>\n",
              "      <td>NaN</td>\n",
              "      <td>NaN</td>\n",
              "      <td>NaN</td>\n",
              "      <td>NaN</td>\n",
              "    </tr>\n",
              "    <tr>\n",
              "      <th>35587</th>\n",
              "      <td>Avalanche Sharks tells the story of a bikini ...</td>\n",
              "      <td>2.185485</td>\n",
              "      <td>/zaSf5OG7V8X8gqFvly88zDdRm46.jpg</td>\n",
              "      <td>[{'name': 'Odyssey Media', 'id': 17161}, {'nam...</td>\n",
              "      <td>[{'iso_3166_1': 'CA', 'name': 'Canada'}]</td>\n",
              "      <td>NaN</td>\n",
              "      <td>0</td>\n",
              "      <td>82.0</td>\n",
              "      <td>[{'iso_639_1': 'en', 'name': 'English'}]</td>\n",
              "      <td>Released</td>\n",
              "      <td>Beware Of Frost Bites</td>\n",
              "      <td>Avalanche Sharks</td>\n",
              "      <td>False</td>\n",
              "      <td>4.3</td>\n",
              "      <td>22</td>\n",
              "      <td>NaN</td>\n",
              "      <td>NaN</td>\n",
              "      <td>NaN</td>\n",
              "      <td>NaN</td>\n",
              "      <td>NaN</td>\n",
              "      <td>NaN</td>\n",
              "      <td>NaN</td>\n",
              "      <td>NaN</td>\n",
              "      <td>NaN</td>\n",
              "    </tr>\n",
              "  </tbody>\n",
              "</table>\n",
              "</div>"
            ],
            "text/plain": [
              "                                                   adult  \\\n",
              "19730                                 - Written by Ørnås   \n",
              "29503   Rune Balot goes to a casino connected to the ...   \n",
              "35587   Avalanche Sharks tells the story of a bikini ...   \n",
              "\n",
              "      belongs_to_collection                            budget  \\\n",
              "19730              0.065736  /ff9qCepilowshEtG2GYWwzt2bs4.jpg   \n",
              "29503              1.931659  /zV8bHuSL6WXoD6FWogP9j4x80bL.jpg   \n",
              "35587              2.185485  /zaSf5OG7V8X8gqFvly88zDdRm46.jpg   \n",
              "\n",
              "                                                  genres  \\\n",
              "19730  [{'name': 'Carousel Productions', 'id': 11176}...   \n",
              "29503  [{'name': 'Aniplex', 'id': 2883}, {'name': 'Go...   \n",
              "35587  [{'name': 'Odyssey Media', 'id': 17161}, {'nam...   \n",
              "\n",
              "                                                homepage  id imdb_id  \\\n",
              "19730  [{'iso_3166_1': 'CA', 'name': 'Canada'}, {'iso... NaN       0   \n",
              "29503  [{'iso_3166_1': 'US', 'name': 'United States o... NaN       0   \n",
              "35587           [{'iso_3166_1': 'CA', 'name': 'Canada'}] NaN       0   \n",
              "\n",
              "      original_language                            original_title  overview  \\\n",
              "19730             104.0  [{'iso_639_1': 'en', 'name': 'English'}]  Released   \n",
              "29503              68.0      [{'iso_639_1': 'ja', 'name': '日本語'}]  Released   \n",
              "35587              82.0  [{'iso_639_1': 'en', 'name': 'English'}]  Released   \n",
              "\n",
              "                  popularity                          poster_path  \\\n",
              "19730                    NaN                         Midnight Man   \n",
              "29503                    NaN  Mardock Scramble: The Third Exhaust   \n",
              "35587  Beware Of Frost Bites                     Avalanche Sharks   \n",
              "\n",
              "      production_companies production_countries release_date  revenue  \\\n",
              "19730                False                  6.0            1      NaN   \n",
              "29503                False                  7.0           12      NaN   \n",
              "35587                False                  4.3           22      NaN   \n",
              "\n",
              "       runtime spoken_languages status tagline title video  vote_average  \\\n",
              "19730      NaN              NaN    NaN     NaN   NaN   NaN           NaN   \n",
              "29503      NaN              NaN    NaN     NaN   NaN   NaN           NaN   \n",
              "35587      NaN              NaN    NaN     NaN   NaN   NaN           NaN   \n",
              "\n",
              "       vote_count  \n",
              "19730         NaN  \n",
              "29503         NaN  \n",
              "35587         NaN  "
            ]
          },
          "metadata": {
            "tags": []
          },
          "execution_count": 63
        }
      ]
    },
    {
      "cell_type": "code",
      "metadata": {
        "id": "sDLLLPe3xeea"
      },
      "source": [
        "movies_metadata_df = movies_metadata_df.drop([19730, 29503, 35587])\n",
        "movies_metadata_df['id'] = movies_metadata_df['id'].astype('int')"
      ],
      "execution_count": 64,
      "outputs": []
    },
    {
      "cell_type": "code",
      "metadata": {
        "colab": {
          "base_uri": "https://localhost:8080/"
        },
        "id": "NUXaT-sAxeXt",
        "outputId": "730a0a86-033a-481a-a9ab-008f3083ae99"
      },
      "source": [
        "movies_df = movies_metadata_df[movies_metadata_df['id'].isin(links_df)]\n",
        "movies_df.shape"
      ],
      "execution_count": 65,
      "outputs": [
        {
          "output_type": "execute_result",
          "data": {
            "text/plain": [
              "(9099, 24)"
            ]
          },
          "metadata": {
            "tags": []
          },
          "execution_count": 65
        }
      ]
    },
    {
      "cell_type": "code",
      "metadata": {
        "id": "OmyloSeRxpIV"
      },
      "source": [
        "\n",
        "movies_df['tagline'] = movies_df['tagline'].fillna('')\n",
        "movies_df['description'] = movies_df['overview'] + movies_df['tagline']\n",
        "movies_df['description'] = movies_df['description'].fillna('')"
      ],
      "execution_count": 66,
      "outputs": []
    },
    {
      "cell_type": "code",
      "metadata": {
        "colab": {
          "base_uri": "https://localhost:8080/"
        },
        "id": "h_RHK2TExu2f",
        "outputId": "16e13cee-2d97-4fd7-c892-3ff86d78eb22"
      },
      "source": [
        "tf = TfidfVectorizer(analyzer='word',ngram_range=(1, 2),min_df=0, stop_words='english')\n",
        "tfidf_matrix = tf.fit_transform(movies_df['description'])\n",
        "tfidf_matrix.shape"
      ],
      "execution_count": 67,
      "outputs": [
        {
          "output_type": "execute_result",
          "data": {
            "text/plain": [
              "(9099, 268124)"
            ]
          },
          "metadata": {
            "tags": []
          },
          "execution_count": 67
        }
      ]
    },
    {
      "cell_type": "code",
      "metadata": {
        "id": "N2HLE-P-xv2l"
      },
      "source": [
        "cosine_sim = linear_kernel(tfidf_matrix, tfidf_matrix)"
      ],
      "execution_count": 68,
      "outputs": []
    },
    {
      "cell_type": "code",
      "metadata": {
        "id": "z33i5wgKxxQA"
      },
      "source": [
        "movies_df = movies_df.reset_index()\n",
        "titles = movies_df['title']\n",
        "indices = pd.Series(movies_df.index, index=movies_df['title'])"
      ],
      "execution_count": 39,
      "outputs": []
    },
    {
      "cell_type": "code",
      "metadata": {
        "id": "LtPdYXiAxyTD"
      },
      "source": [
        "def get_recommendations(title):\n",
        "    idx = indices[title]\n",
        "    sim_scores = list(enumerate(cosine_sim[idx]))\n",
        "    sim_scores = sorted(sim_scores, key=lambda x: x[1], reverse=True)\n",
        "    sim_scores = sim_scores[1:51]\n",
        "    movie_indices = [i[0] for i in sim_scores]\n",
        "    return titles.iloc[movie_indices]"
      ],
      "execution_count": 69,
      "outputs": []
    },
    {
      "cell_type": "code",
      "metadata": {
        "colab": {
          "base_uri": "https://localhost:8080/"
        },
        "id": "jTopyNE6x1Ss",
        "outputId": "16053af3-4da8-404d-b168-0412033630b3"
      },
      "source": [
        "get_recommendations('Star Wars').head(10)"
      ],
      "execution_count": 76,
      "outputs": [
        {
          "output_type": "execute_result",
          "data": {
            "text/plain": [
              "949                          The Empire Strikes Back\n",
              "962                               Return of the Jedi\n",
              "8755                    Star Wars: The Force Awakens\n",
              "6690                                 Shrek the Third\n",
              "6125    Star Wars: Episode III - Revenge of the Sith\n",
              "4815                               Where Eagles Dare\n",
              "7539                             Shrek Forever After\n",
              "2896                 On Her Majesty's Secret Service\n",
              "5805                                 The Ice Pirates\n",
              "515                                 Princess Caraboo\n",
              "Name: title, dtype: object"
            ]
          },
          "metadata": {
            "tags": []
          },
          "execution_count": 76
        }
      ]
    },
    {
      "cell_type": "code",
      "metadata": {
        "colab": {
          "base_uri": "https://localhost:8080/"
        },
        "id": "oB9J1engx1sV",
        "outputId": "9fdbd1e9-e61d-4f76-b172-a968d9fe4b29"
      },
      "source": [
        "get_recommendations('Shrek').head(10)"
      ],
      "execution_count": 80,
      "outputs": [
        {
          "output_type": "execute_result",
          "data": {
            "text/plain": [
              "5383                 Shrek 2\n",
              "7539     Shrek Forever After\n",
              "6690         Shrek the Third\n",
              "4612          Silk Stockings\n",
              "7417          Dragon Hunters\n",
              "2615    White Men Can't Jump\n",
              "2890           Shanghai Noon\n",
              "823               Cinderella\n",
              "7062              Cinderella\n",
              "5451          Into the Woods\n",
              "Name: title, dtype: object"
            ]
          },
          "metadata": {
            "tags": []
          },
          "execution_count": 80
        }
      ]
    }
  ]
}